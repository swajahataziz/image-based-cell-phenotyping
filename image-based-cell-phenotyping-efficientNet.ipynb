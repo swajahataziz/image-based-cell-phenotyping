{
 "cells": [
  {
   "cell_type": "markdown",
   "metadata": {},
   "source": [
    "# Image based Cell Phenotying using EfficientNet"
   ]
  },
  {
   "cell_type": "code",
   "execution_count": 3,
   "metadata": {},
   "outputs": [],
   "source": [
    "import pickle\n",
    "import numpy as np\n",
    "import os\n",
    "import time\n",
    "import gc\n",
    "import matplotlib.pyplot as plt\n",
    "\n",
    "from itertools import cycle\n",
    "import pandas as pd\n",
    "from PIL import Image\n",
    "from scipy import ndimage, misc"
   ]
  },
  {
   "cell_type": "code",
   "execution_count": 39,
   "metadata": {},
   "outputs": [
    {
     "name": "stdout",
     "output_type": "stream",
     "text": [
      "Collecting pytorch-ignite\n",
      "  Downloading pytorch_ignite-0.4.10-py3-none-any.whl (264 kB)\n",
      "     |████████████████████████████████| 264 kB 27.8 MB/s            \n",
      "\u001b[?25hRequirement already satisfied: packaging in /opt/conda/lib/python3.6/site-packages (from pytorch-ignite) (21.3)\n",
      "Requirement already satisfied: torch<2,>=1.3 in /opt/conda/lib/python3.6/site-packages (from pytorch-ignite) (1.8.1)\n",
      "Requirement already satisfied: dataclasses in /opt/conda/lib/python3.6/site-packages (from torch<2,>=1.3->pytorch-ignite) (0.8)\n",
      "Requirement already satisfied: numpy in /opt/conda/lib/python3.6/site-packages (from torch<2,>=1.3->pytorch-ignite) (1.19.1)\n",
      "Requirement already satisfied: typing-extensions in /opt/conda/lib/python3.6/site-packages (from torch<2,>=1.3->pytorch-ignite) (3.10.0.2)\n",
      "Requirement already satisfied: pyparsing!=3.0.5,>=2.0.2 in /opt/conda/lib/python3.6/site-packages (from packaging->pytorch-ignite) (3.0.6)\n",
      "Installing collected packages: pytorch-ignite\n",
      "Successfully installed pytorch-ignite-0.4.10\n",
      "\u001b[33mWARNING: Running pip as the 'root' user can result in broken permissions and conflicting behaviour with the system package manager. It is recommended to use a virtual environment instead: https://pip.pypa.io/warnings/venv\u001b[0m\n"
     ]
    }
   ],
   "source": [
    "!pip install pytorch-ignite"
   ]
  },
  {
   "cell_type": "code",
   "execution_count": 41,
   "metadata": {},
   "outputs": [],
   "source": [
    "from tqdm import tqdm_notebook as tqdm\n",
    "\n",
    "import torch\n",
    "import ignite\n",
    "import torch.nn as nn\n",
    "\n",
    "import warnings\n",
    "warnings.filterwarnings(\"ignore\")\n"
   ]
  },
  {
   "cell_type": "code",
   "execution_count": 5,
   "metadata": {},
   "outputs": [],
   "source": [
    "path = 'HCT-116_1.pickle'\n",
    "x = pickle.load(open(path,\"rb\"))"
   ]
  },
  {
   "cell_type": "code",
   "execution_count": 6,
   "metadata": {},
   "outputs": [],
   "source": [
    "size = x.shape"
   ]
  },
  {
   "cell_type": "code",
   "execution_count": 7,
   "metadata": {},
   "outputs": [
    {
     "data": {
      "text/plain": [
       "(508, 1, 75, 75, 4)"
      ]
     },
     "execution_count": 7,
     "metadata": {},
     "output_type": "execute_result"
    }
   ],
   "source": [
    "size"
   ]
  },
  {
   "cell_type": "code",
   "execution_count": 8,
   "metadata": {},
   "outputs": [
    {
     "data": {
      "text/plain": [
       "508"
      ]
     },
     "execution_count": 8,
     "metadata": {},
     "output_type": "execute_result"
    }
   ],
   "source": [
    "size[0]"
   ]
  },
  {
   "cell_type": "code",
   "execution_count": 19,
   "metadata": {},
   "outputs": [],
   "source": [
    "from PIL import Image as im"
   ]
  },
  {
   "cell_type": "code",
   "execution_count": 33,
   "metadata": {},
   "outputs": [],
   "source": [
    "img = [x[0].astype(float)]\n",
    "img = np.array(img)"
   ]
  },
  {
   "cell_type": "code",
   "execution_count": 34,
   "metadata": {},
   "outputs": [],
   "source": [
    "img = img.squeeze()"
   ]
  },
  {
   "cell_type": "code",
   "execution_count": 44,
   "metadata": {},
   "outputs": [],
   "source": [
    "device = 'cuda' if torch.cuda.is_available() else 'cpu'"
   ]
  },
  {
   "cell_type": "code",
   "execution_count": 45,
   "metadata": {},
   "outputs": [
    {
     "name": "stdout",
     "output_type": "stream",
     "text": [
      "1.8.1 0.4.10 4\n",
      "Tesla T4\n"
     ]
    }
   ],
   "source": [
    "print(torch.__version__, ignite.__version__, os.cpu_count())\n",
    "if device == 'cuda': print(torch.cuda.get_device_name())"
   ]
  },
  {
   "cell_type": "code",
   "execution_count": 46,
   "metadata": {},
   "outputs": [],
   "source": [
    "use_amp = True if device == 'cuda' else False\n",
    "training = True if device == 'cuda' else False"
   ]
  },
  {
   "cell_type": "code",
   "execution_count": 49,
   "metadata": {},
   "outputs": [
    {
     "data": {
      "text/plain": [
       "True"
      ]
     },
     "execution_count": 49,
     "metadata": {},
     "output_type": "execute_result"
    }
   ],
   "source": [
    "training"
   ]
  },
  {
   "cell_type": "code",
   "execution_count": 50,
   "metadata": {},
   "outputs": [],
   "source": [
    "# install NVIDIA Apex if needed to support mixed precision training\n",
    "if use_amp and training:\n",
    "    try:\n",
    "        from apex import amp\n",
    "    except ImportError:\n",
    "#         !git clone https://github.com/NVIDIA/apex\n",
    "#         !pip install --no-cache-dir --global-option=\"--cpp_ext\" --global-option=\"--cuda_ext\" apex/\n",
    "        !pip install  -v --no-cache-dir --global-option=\"--cpp_ext\" --global-option=\"--cuda_ext\" ../input/*/*/NVIDIA-apex*\n",
    "        from apex import amp"
   ]
  },
  {
   "cell_type": "code",
   "execution_count": 52,
   "metadata": {},
   "outputs": [],
   "source": [
    "class Swish(nn.Module):\n",
    "    def forward(self, x):\n",
    "        return x * torch.sigmoid(x)\n",
    "\n",
    "\n",
    "class Flatten(nn.Module):\n",
    "    def forward(self, x):\n",
    "        return x.reshape(x.shape[0], -1)"
   ]
  },
  {
   "cell_type": "code",
   "execution_count": 53,
   "metadata": {},
   "outputs": [
    {
     "name": "stdout",
     "output_type": "stream",
     "text": [
      "[2022-11-29 15:16:38.256 pytorch-1-8-gpu-py3-ml-g4dn-xlarge-60bd0d07a83be181dcf7335baae2:50 INFO utils.py:27] RULE_JOB_STOP_SIGNAL_FILENAME: None\n",
      "[2022-11-29 15:16:38.291 pytorch-1-8-gpu-py3-ml-g4dn-xlarge-60bd0d07a83be181dcf7335baae2:50 INFO profiler_config_parser.py:102] Unable to find config at /opt/ml/input/config/profilerconfig.json. Profiler is disabled.\n"
     ]
    },
    {
     "data": {
      "image/png": "[encoded data removed]",
      "text/plain": [
       "<Figure size 432x288 with 1 Axes>"
      ]
     },
     "metadata": {
      "needs_background": "light"
     },
     "output_type": "display_data"
    }
   ],
   "source": [
    "import matplotlib.pylab as plt\n",
    "%matplotlib inline\n",
    "\n",
    "d = torch.linspace(-10.0, 10.0)\n",
    "s = Swish()\n",
    "res = s(d)\n",
    "res2 = torch.relu(d)\n",
    "\n",
    "plt.title(\"Swish transformation\")\n",
    "plt.plot(d.numpy(), res.numpy(), label='Swish')\n",
    "plt.plot(d.numpy(), res2.numpy(), label='ReLU')\n",
    "_ = plt.legend()"
   ]
  },
  {
   "cell_type": "code",
   "execution_count": 58,
   "metadata": {},
   "outputs": [],
   "source": [
    "class SqueezeExcitation(nn.Module):\n",
    "    \n",
    "    def __init__(self, inplanes, se_planes):\n",
    "        super(SqueezeExcitation, self).__init__()\n",
    "        self.reduce_expand = nn.Sequential(\n",
    "            nn.Conv2d(inplanes, se_planes, \n",
    "                      kernel_size=1, stride=1, padding=0, bias=True),\n",
    "            Swish(),\n",
    "            nn.Conv2d(se_planes, inplanes, \n",
    "                      kernel_size=1, stride=1, padding=0, bias=True),\n",
    "            nn.Sigmoid()\n",
    "        )\n",
    "\n",
    "    def forward(self, x):\n",
    "        x_se = torch.mean(x, dim=(-2, -1), keepdim=True)\n",
    "        x_se = self.reduce_expand(x_se)\n",
    "        return x_se * x"
   ]
  },
  {
   "cell_type": "code",
   "execution_count": 59,
   "metadata": {},
   "outputs": [],
   "source": [
    "from torch.nn import functional as F\n",
    "\n",
    "class MBConv(nn.Module):\n",
    "    def __init__(self, inplanes, planes, kernel_size, stride, \n",
    "                 expand_rate=1.0, se_rate=0.25, \n",
    "                 drop_connect_rate=0.2):\n",
    "        super(MBConv, self).__init__()\n",
    "\n",
    "        expand_planes = int(inplanes * expand_rate)\n",
    "        se_planes = max(1, int(inplanes * se_rate))\n",
    "\n",
    "        self.expansion_conv = None        \n",
    "        if expand_rate > 1.0:\n",
    "            self.expansion_conv = nn.Sequential(\n",
    "                nn.Conv2d(inplanes, expand_planes, \n",
    "                          kernel_size=1, stride=1, padding=0, bias=False),\n",
    "                nn.BatchNorm2d(expand_planes, momentum=0.01, eps=1e-3),\n",
    "                Swish()\n",
    "            )\n",
    "            inplanes = expand_planes\n",
    "\n",
    "        self.depthwise_conv = nn.Sequential(\n",
    "            nn.Conv2d(inplanes, expand_planes,\n",
    "                      kernel_size=kernel_size, stride=stride, \n",
    "                      padding=kernel_size // 2, groups=expand_planes,\n",
    "                      bias=False),\n",
    "            nn.BatchNorm2d(expand_planes, momentum=0.01, eps=1e-3),\n",
    "            Swish()\n",
    "        )\n",
    "\n",
    "        self.squeeze_excitation = SqueezeExcitation(expand_planes, se_planes)\n",
    "        \n",
    "        self.project_conv = nn.Sequential(\n",
    "            nn.Conv2d(expand_planes, planes, \n",
    "                      kernel_size=1, stride=1, padding=0, bias=False),\n",
    "            nn.BatchNorm2d(planes, momentum=0.01, eps=1e-3),\n",
    "        )\n",
    "\n",
    "        self.with_skip = stride == 1\n",
    "        self.drop_connect_rate = torch.tensor(drop_connect_rate, requires_grad=False)\n",
    "    \n",
    "    def _drop_connect(self, x):        \n",
    "        keep_prob = 1.0 - self.drop_connect_rate\n",
    "        drop_mask = torch.rand(x.shape[0], 1, 1, 1) + keep_prob\n",
    "        drop_mask = drop_mask.type_as(x)\n",
    "        drop_mask.floor_()\n",
    "        return drop_mask * x / keep_prob\n",
    "        \n",
    "    def forward(self, x):\n",
    "        z = x\n",
    "        if self.expansion_conv is not None:\n",
    "            x = self.expansion_conv(x)\n",
    "\n",
    "        x = self.depthwise_conv(x)\n",
    "        x = self.squeeze_excitation(x)\n",
    "        x = self.project_conv(x)\n",
    "        \n",
    "        # Add identity skip\n",
    "        if x.shape == z.shape and self.with_skip:            \n",
    "            if self.training and self.drop_connect_rate is not None:\n",
    "                self._drop_connect(x)\n",
    "            x += z\n",
    "        return x"
   ]
  },
  {
   "cell_type": "code",
   "execution_count": 61,
   "metadata": {},
   "outputs": [],
   "source": [
    "from collections import OrderedDict\n",
    "import math\n",
    "\n",
    "\n",
    "def init_weights(module):    \n",
    "    if isinstance(module, nn.Conv2d):    \n",
    "        nn.init.kaiming_normal_(module.weight, a=0, mode='fan_out')\n",
    "    elif isinstance(module, nn.Linear):\n",
    "        init_range = 1.0 / math.sqrt(module.weight.shape[1])\n",
    "        nn.init.uniform_(module.weight, a=-init_range, b=init_range)\n",
    "        \n",
    "        \n",
    "class EfficientNet(nn.Module):\n",
    "        \n",
    "    def _setup_repeats(self, num_repeats):\n",
    "        return int(math.ceil(self.depth_coefficient * num_repeats))\n",
    "    \n",
    "    def _setup_channels(self, num_channels):\n",
    "        num_channels *= self.width_coefficient\n",
    "        new_num_channels = math.floor(num_channels / self.divisor + 0.5) * self.divisor\n",
    "        new_num_channels = max(self.divisor, new_num_channels)\n",
    "        if new_num_channels < 0.9 * num_channels:\n",
    "            new_num_channels += self.divisor\n",
    "        return new_num_channels\n",
    "\n",
    "    def __init__(self, num_classes, \n",
    "                 width_coefficient=1.0,\n",
    "                 depth_coefficient=1.0,\n",
    "                 se_rate=0.25,\n",
    "                 dropout_rate=0.2,\n",
    "                 drop_connect_rate=0.2):\n",
    "        super(EfficientNet, self).__init__()\n",
    "        \n",
    "        self.width_coefficient = width_coefficient\n",
    "        self.depth_coefficient = depth_coefficient\n",
    "        self.divisor = 8\n",
    "                \n",
    "        list_channels = [32, 16, 24, 40, 80, 112, 192, 320, 1280]\n",
    "        list_channels = [self._setup_channels(c) for c in list_channels]\n",
    "                \n",
    "        list_num_repeats = [1, 2, 2, 3, 3, 4, 1]\n",
    "        list_num_repeats = [self._setup_repeats(r) for r in list_num_repeats]        \n",
    "        \n",
    "        expand_rates = [1, 6, 6, 6, 6, 6, 6]\n",
    "        strides = [1, 2, 2, 2, 1, 2, 1]\n",
    "        kernel_sizes = [3, 3, 5, 3, 5, 5, 3]\n",
    "\n",
    "        # Define stem:\n",
    "        self.stem = nn.Sequential(\n",
    "            nn.Conv2d(3, list_channels[0], kernel_size=3, stride=2, padding=1, bias=False),\n",
    "            nn.BatchNorm2d(list_channels[0], momentum=0.01, eps=1e-3),\n",
    "            Swish()\n",
    "        )\n",
    "        \n",
    "        # Define MBConv blocks\n",
    "        blocks = []\n",
    "        counter = 0\n",
    "        num_blocks = sum(list_num_repeats)\n",
    "        for idx in range(7):\n",
    "            \n",
    "            num_channels = list_channels[idx]\n",
    "            next_num_channels = list_channels[idx + 1]\n",
    "            num_repeats = list_num_repeats[idx]\n",
    "            expand_rate = expand_rates[idx]\n",
    "            kernel_size = kernel_sizes[idx]\n",
    "            stride = strides[idx]\n",
    "            drop_rate = drop_connect_rate * counter / num_blocks\n",
    "            \n",
    "            name = \"MBConv{}_{}\".format(expand_rate, counter)\n",
    "            blocks.append((\n",
    "                name,\n",
    "                MBConv(num_channels, next_num_channels, \n",
    "                       kernel_size=kernel_size, stride=stride, expand_rate=expand_rate, \n",
    "                       se_rate=se_rate, drop_connect_rate=drop_rate)\n",
    "            ))\n",
    "            counter += 1\n",
    "            for i in range(1, num_repeats):                \n",
    "                name = \"MBConv{}_{}\".format(expand_rate, counter)\n",
    "                drop_rate = drop_connect_rate * counter / num_blocks                \n",
    "                blocks.append((\n",
    "                    name,\n",
    "                    MBConv(next_num_channels, next_num_channels, \n",
    "                           kernel_size=kernel_size, stride=1, expand_rate=expand_rate, \n",
    "                           se_rate=se_rate, drop_connect_rate=drop_rate)                                    \n",
    "                ))\n",
    "                counter += 1\n",
    "        \n",
    "        self.blocks = nn.Sequential(OrderedDict(blocks))\n",
    "        \n",
    "        # Define head\n",
    "        self.head = nn.Sequential(\n",
    "            nn.Conv2d(list_channels[-2], list_channels[-1], \n",
    "                      kernel_size=1, bias=False),\n",
    "            nn.BatchNorm2d(list_channels[-1], momentum=0.01, eps=1e-3),\n",
    "            Swish(),\n",
    "            nn.AdaptiveAvgPool2d(1),\n",
    "            Flatten(),\n",
    "            nn.Dropout(p=dropout_rate),\n",
    "            nn.Linear(list_channels[-1], num_classes)\n",
    "        )\n",
    "\n",
    "        self.apply(init_weights)\n",
    "        \n",
    "    def forward(self, x):\n",
    "        f = self.stem(x)\n",
    "        f = self.blocks(f)\n",
    "        y = self.head(f)\n",
    "        return y"
   ]
  },
  {
   "cell_type": "code",
   "execution_count": 62,
   "metadata": {},
   "outputs": [],
   "source": [
    "import torchvision.utils as vutils\n",
    "\n",
    "import pandas as pd\n",
    "from sklearn import preprocessing\n",
    "from sklearn.utils import shuffle"
   ]
  },
  {
   "cell_type": "code",
   "execution_count": 63,
   "metadata": {},
   "outputs": [
    {
     "data": {
      "text/plain": [
       "array([0, 1, 2, 3, 4, 5, 6, 7])"
      ]
     },
     "execution_count": 63,
     "metadata": {},
     "output_type": "execute_result"
    }
   ],
   "source": [
    "le = preprocessing.LabelEncoder()\n",
    "le.fit_transform(['HCT-116', 'HL60', 'JURKAT', 'LNCAP', 'MCF7', 'PC3', 'THP-1', 'USOS'])"
   ]
  },
  {
   "cell_type": "code",
   "execution_count": null,
   "metadata": {},
   "outputs": [],
   "source": []
  }
 ],
 "metadata": {
  "instance_type": "ml.g4dn.xlarge",
  "kernelspec": {
   "display_name": "Python 3 (PyTorch 1.8 Python 3.6 GPU Optimized)",
   "language": "python",
   "name": "python3__SAGEMAKER_INTERNAL__arn:aws:sagemaker:us-east-1:081325390199:image/pytorch-1.8-gpu-py36"
  },
  "language_info": {
   "codemirror_mode": {
    "name": "ipython",
    "version": 3
   },
   "file_extension": ".py",
   "mimetype": "text/x-python",
   "name": "python",
   "nbconvert_exporter": "python",
   "pygments_lexer": "ipython3",
   "version": "3.6.13"
  }
 },
 "nbformat": 4,
 "nbformat_minor": 4
}
